{
 "cells": [
  {
   "cell_type": "code",
   "execution_count": 1,
   "metadata": {},
   "outputs": [],
   "source": [
    "import matplotlib.pyplot as plt\n",
    "import numpy as np\n",
    "import cv2\n",
    "from scipy.ndimage import gaussian_filter, map_coordinates\n",
    "import math\n",
    "import base64\n",
    "from PIL import Image"
   ]
  },
  {
   "cell_type": "code",
   "execution_count": 2,
   "metadata": {},
   "outputs": [
    {
     "data": {
      "image/png": "[encoded data removed]",
      "text/plain": [
       "<Figure size 640x480 with 1 Axes>"
      ]
     },
     "metadata": {},
     "output_type": "display_data"
    }
   ],
   "source": [
    "px = 1/plt.rcParams['figure.dpi']  # pixel in inches\n",
    "\n",
    "# Create a figure and an axes\n",
    "fig = plt.figure()\n",
    "ax = fig.add_subplot()\n",
    "# Hide the top and right spines\n",
    "ax.spines['top'].set_visible(False)\n",
    "ax.spines['right'].set_visible(False)\n",
    "\n",
    "# Move the remaining spines to the zero of the other axis\n",
    "ax.spines['bottom'].set_position('zero')\n",
    "ax.spines['left'].set_position('zero')\n",
    "\n",
    "# Remove the ticks\n",
    "ax.set_xticks([])\n",
    "ax.set_yticks([])\n",
    "\n",
    "# Set the limits for the axes\n",
    "ax.set_xlim(-10, 10)\n",
    "ax.set_ylim(-10, 10)\n",
    "\n",
    "ax.set_aspect('equal')\n",
    "\n",
    "# Create the function\n",
    "\n",
    "# Show the plot\n",
    "plt.show()"
   ]
  },
  {
   "cell_type": "code",
   "execution_count": 3,
   "metadata": {},
   "outputs": [],
   "source": [
    "def truncate_float(float_number, decimal_places):\n",
    "    multiplier = 10 ** decimal_places\n",
    "    return int(float_number * multiplier) / multiplier"
   ]
  },
  {
   "cell_type": "code",
   "execution_count": 9,
   "metadata": {},
   "outputs": [
    {
     "data": {
      "text/plain": [
       "(-10.0, 10.0, -10.0, 10.0)"
      ]
     },
     "execution_count": 9,
     "metadata": {},
     "output_type": "execute_result"
    },
    {
     "data": {
      "image/png": "[encoded data removed]",
      "text/plain": [
       "<Figure size 600x600 with 1 Axes>"
      ]
     },
     "metadata": {},
     "output_type": "display_data"
    }
   ],
   "source": [
    "# Generate the original image of the function y = x\n",
    "x = np.linspace(-10, 10, 400)\n",
    "y = 1 * x \n",
    "\n",
    "plt.figure(figsize=(6,6))\n",
    "plt.plot(x, y, linewidth=3, color = \"black\")\n",
    "plt.xlim([-10, 10])\n",
    "plt.ylim([-10, 10])\n",
    "plt.axis('off')  # Hide axes for clarity\n",
    "\n",
    "# # Save the original function image\n",
    "# plt.savefig('Math-Functions-Identification/data/original_function.png', bbox_inches='tight', pad_inches=0, dpi=100)\n",
    "# plt.close()\n",
    "\n",
    "# # Display the original function image\n",
    "# original_img = cv2.imread('Math-Functions-Identification/data/original_function.png')\n",
    "# plt.imshow(cv2.cvtColor(original_img, cv2.COLOR_BGR2RGB))\n",
    "# plt.axis('off')\n",
    "# plt.show()\n"
   ]
  },
  {
   "cell_type": "code",
   "execution_count": 11,
   "metadata": {},
   "outputs": [],
   "source": [
    "\n",
    "# Apply deformation to an image\n",
    "def apply_elastic_transform(image, sigma, alpha=1000):\n",
    "    random_state = np.random.RandomState(None)\n",
    "    shape = image.shape\n",
    "    print(shape)\n",
    "\n",
    "    # Generate random displacement field. Apply random_state to the image shape to do a random displasement.\n",
    "    # * 2 - 1 shapes the values between -1 and 1. \n",
    "    # Put a new random shape into a gaussian blur so the displacement would be smooth\n",
    "    dx = gaussian_filter((random_state.rand(*shape) * 2 - 1), sigma, mode=\"constant\", cval=0) * alpha\n",
    "    dy = gaussian_filter((random_state.rand(*shape) * 2 - 1), sigma, mode=\"constant\", cval=0) * alpha\n",
    "    dz = np.zeros_like(dx)\n",
    "\n",
    "    x, y, z = np.meshgrid(np.arange(shape[1]), np.arange(shape[0]), np.arange(shape[2]))\n",
    "    indices = np.reshape(y+dy, (-1, 1)), np.reshape(x+dx, (-1, 1)), np.reshape(z+dz, (-1, 1))\n",
    "\n",
    "    distored_image = map_coordinates(image, indices, order=1, mode='reflect')\n",
    "    return distored_image.reshape(image.shape)\n",
    "\n",
    "# # Apply augmentations\n",
    "# augmented_img = apply_elastic_transform(original_img.astype(np.float32), 10)\n",
    "\n",
    "# # Save and display the augmented function image\n",
    "# cv2.imwrite('data/augmented_function.png', augmented_img)\n",
    "# plt.imshow(cv2.cvtColor(augmented_img.astype(np.uint8), cv2.COLOR_BGR2RGB))\n",
    "# plt.title(\"Augmented Function\")\n",
    "# plt.axis('off')\n",
    "# plt.show()"
   ]
  },
  {
   "cell_type": "code",
   "execution_count": 12,
   "metadata": {},
   "outputs": [
    {
     "data": {
      "image/png": "[encoded data removed]",
      "text/plain": [
       "<Figure size 256x256 with 1 Axes>"
      ]
     },
     "metadata": {},
     "output_type": "display_data"
    }
   ],
   "source": [
    "x = np.linspace(-10, 10, 400)\n",
    "y = (x + 0)**2 + 0\n",
    "\n",
    "plt.figure(figsize=(256*px,256*px))\n",
    "plt.plot(x, y, linewidth = 3, color = \"black\")\n",
    "plt.xlim([-10, 10])\n",
    "plt.ylim([-10, 10])\n",
    "plt.axis('off')  # Hide axes for clarity\n",
    "\n",
    "plt.show()"
   ]
  },
  {
   "cell_type": "code",
   "execution_count": 15,
   "metadata": {},
   "outputs": [],
   "source": [
    "%%capture\n",
    "\n",
    "\n",
    "def generate_function_generic(a, b, sigma, equation, name):\n",
    "    x = np.linspace(-10, 10, 400)\n",
    "    y = eval(equation)\n",
    "\n",
    "    plt.figure(figsize=(2.56, 2.56), dpi=100)\n",
    "    plt.plot(x, y, linewidth = 3, color = \"black\")\n",
    "    plt.subplots_adjust(left=0, right=1, top=1, bottom=0)\n",
    "    plt.xlim([-10, 10])\n",
    "    plt.ylim([-10, 10])\n",
    "    plt.axis('off')  # Hide axes for clarity\n",
    "    filename = f'/Users/anna-alexandradanchenko/local/IdentMathFunc/Math-Functions-Identification/data/{name}/function_{truncate_float(a, 4)}_{truncate_float(b, 4)}.png'\n",
    "    # Save the original function image\n",
    "    plt.savefig(filename)\n",
    "    plt.close()\n",
    "    original_img = cv2.imread(filename)\n",
    "\n",
    "    augmented_img = apply_elastic_transform(original_img.astype(np.float32), sigma)\n",
    "    augumented_filename = f'/Users/anna-alexandradanchenko/local/IdentMathFunc/Math-Functions-Identification/data/{name}/function_{truncate_float(a, 4)}_{truncate_float(b, 4)}_{truncate_float(sigma, 4)}.png'\n",
    "    cv2.imwrite(augumented_filename, augmented_img)\n",
    "\n",
    "def iterate_function_generation(a_val, b_val, sigma_val,\n",
    "                                a_val_c, b_val_c, sigma_val_c, \n",
    "                                equation, name):\n",
    "    for a in a_val:\n",
    "        for b in b_val:\n",
    "            for sigma in sigma_val:\n",
    "                generate_function_generic(a, b, sigma, equation, name)\n",
    "    for a in a_val_c:\n",
    "        for b in b_val_c:\n",
    "            for sigma in sigma_val_c:\n",
    "                generate_function_generic(a, b, sigma, equation, name)\n",
    "\n"
   ]
  },
  {
   "cell_type": "markdown",
   "metadata": {},
   "source": [
    "Functions Generation"
   ]
  },
  {
   "cell_type": "code",
   "execution_count": 34,
   "metadata": {},
   "outputs": [
    {
     "name": "stdout",
     "output_type": "stream",
     "text": [
      "(256, 256, 3)\n",
      "(256, 256, 3)\n",
      "(256, 256, 3)\n",
      "(256, 256, 3)\n",
      "(256, 256, 3)\n",
      "(256, 256, 3)\n",
      "(256, 256, 3)\n",
      "(256, 256, 3)\n",
      "(256, 256, 3)\n",
      "(256, 256, 3)\n",
      "(256, 256, 3)\n",
      "(256, 256, 3)\n",
      "(256, 256, 3)\n",
      "(256, 256, 3)\n",
      "(256, 256, 3)\n",
      "(256, 256, 3)\n",
      "(256, 256, 3)\n",
      "(256, 256, 3)\n",
      "(256, 256, 3)\n",
      "(256, 256, 3)\n",
      "(256, 256, 3)\n",
      "(256, 256, 3)\n",
      "(256, 256, 3)\n",
      "(256, 256, 3)\n",
      "(256, 256, 3)\n",
      "(256, 256, 3)\n",
      "(256, 256, 3)\n",
      "(256, 256, 3)\n",
      "(256, 256, 3)\n",
      "(256, 256, 3)\n",
      "(256, 256, 3)\n",
      "(256, 256, 3)\n",
      "(256, 256, 3)\n",
      "(256, 256, 3)\n",
      "(256, 256, 3)\n"
     ]
    }
   ],
   "source": [
    "#iterate_function_generation(np.linspace(-2, 2, 3), np.linspace(-2, 2, 3), np.linspace(7, 11, 3),\n",
    "#                            np.linspace(-1, 1, 2), np.linspace(-1, 1, 2), [9, 10],\n",
    "#                            \"(x + a)**2 + b\", \"quadratic\")\n",
    "\n",
    "#iterate_function_generation(np.linspace(0.8, 1.2, 3), np.linspace(-3, 3, 3), np.linspace(7, 11, 3),\n",
    "#                            np.linspace(0.9, 1.1, 2), np.linspace(-1.5, 1.5, 2), [9, 10],\n",
    "#                            \"a*x + b\", \"linear\")\n",
    "\n",
    "# iterate_function_generation(np.linspace(-2, 2, 3), np.linspace(-2, 2, 3), np.linspace(7, 11, 3),\n",
    "#                             np.linspace(-1, 1, 2), np.linspace(-1, 1, 2), [9, 10],\n",
    "#                             \"-(x + a)**2 + b\", \"negative_quadratic\")\n",
    "\n",
    "# iterate_function_generation(np.linspace(0.8, 1.2, 3), np.linspace(-3, 3, 3), np.linspace(7, 11, 3),\n",
    "#                            np.linspace(0.9, 1.1, 2), np.linspace(-1.5, 1.5, 2), [9, 10],\n",
    "#                            \"-a*x + b\", \"negative_linear\")\n",
    "\n",
    "# iterate_function_generation(np.linspace(0.8, 1.2, 3), np.linspace(-3, 3, 3), np.linspace(7, 11, 3),\n",
    "#                            np.linspace(0.9, 1.1, 2), np.linspace(-1.5, 1.5, 2), [9, 10],\n",
    "#                            \"np.sqrt(x + a) + b\", \"square_root\")\n",
    "\n",
    "iterate_function_generation(np.linspace(0.8, 1.2, 3), np.linspace(-2, 2, 3), np.linspace(8, 10, 3),\n",
    "                           np.linspace(0.9, 1.1, 2), np.linspace(-1.5, 1.5, 2), [9, 10],\n",
    "                           \"(x * 4/5 + a)**3 * 1/3 + b\", \"cubic\")"
   ]
  },
  {
   "cell_type": "markdown",
   "metadata": {},
   "source": [
    "## Pre-Generate Answers"
   ]
  },
  {
   "cell_type": "markdown",
   "metadata": {},
   "source": [
    "### Generic Function"
   ]
  },
  {
   "cell_type": "code",
   "execution_count": 26,
   "metadata": {},
   "outputs": [],
   "source": [
    "def generate_answers(equation, name):\n",
    "    # Generate the original image of the function y = x\n",
    "    x = np.linspace(-10, 10, 400)\n",
    "    y = equation\n",
    "\n",
    "    plt.figure(figsize=(20.48,20.48), dpi=100)\n",
    "    plt.plot(x, y, linewidth=16, color = \"limegreen\", snap=False)\n",
    "    plt.xlim([-10, 10])\n",
    "    plt.ylim([-10, 10])\n",
    "    plt.axis('off')  # Hide axes for clarity\n",
    "\n",
    "    # Save the original function image\n",
    "    plt.savefig('/Users/anna-alexandradanchenko/local/IdentMathFunc/Math-Functions-Identification/pre_generated_functions/' + name + \".png\", \n",
    "                bbox_inches='tight', \n",
    "                pad_inches=0.2, \n",
    "                dpi=100,\n",
    "                transparent=True)\n",
    "    plt.close()\n"
   ]
  },
  {
   "cell_type": "code",
   "execution_count": 27,
   "metadata": {},
   "outputs": [
    {
     "name": "stderr",
     "output_type": "stream",
     "text": [
      "/var/folders/6p/1jmnvrkx7jxdslfr99shm1z00000gn/T/ipykernel_2722/3551800388.py:7: RuntimeWarning: invalid value encountered in sqrt\n",
      "  generate_answers(np.sqrt(x) * 1.5, \"square_root\")\n"
     ]
    }
   ],
   "source": [
    "generate_answers(x, \"linear\")\n",
    "generate_answers(-x, \"negative_linear\")\n",
    "generate_answers(x**2, \"quadratic\")\n",
    "generate_answers(-x**2, \"negative_quadratic\")\n",
    "generate_answers(x**3 * 1/3, \"cubic\")\n",
    "generate_answers(-x**3 * 1/3, \"negative_cubic\")\n",
    "generate_answers(np.sqrt(x) * 1.5, \"square_root\")"
   ]
  },
  {
   "cell_type": "markdown",
   "metadata": {},
   "source": [
    "Test image data encoding"
   ]
  },
  {
   "cell_type": "code",
   "execution_count": 28,
   "metadata": {},
   "outputs": [
    {
     "name": "stdout",
     "output_type": "stream",
     "text": [
      "data:image/png;base64,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\n"
     ]
    }
   ],
   "source": [
    "ANSWERS_ROUTE = \"/Users/anna-alexandradanchenko/local/IdentMathFunc/Math-Functions-Identification/pre_generated_functions\"\n",
    "imagefile = open(ANSWERS_ROUTE + \"/\" + \"quadratic\" + \".png\", \"rb\")\n",
    "answer_image_encoded = base64.b64encode(imagefile.read())\n",
    "answer_image_encoded = answer_image_encoded.decode(\"utf-8\")\n",
    "answer_image_encoded = \"data:image/png;base64,\" + answer_image_encoded\n",
    "\n",
    "print(answer_image_encoded)"
   ]
  }
 ],
 "metadata": {
  "kernelspec": {
   "display_name": "Python 3.11.5 64-bit",
   "language": "python",
   "name": "python3"
  },
  "language_info": {
   "codemirror_mode": {
    "name": "ipython",
    "version": 3
   },
   "file_extension": ".py",
   "mimetype": "text/x-python",
   "name": "python",
   "nbconvert_exporter": "python",
   "pygments_lexer": "ipython3",
   "version": "3.11.5"
  },
  "orig_nbformat": 4,
  "vscode": {
   "interpreter": {
    "hash": "b0fa6594d8f4cbf19f97940f81e996739fb7646882a419484c72d19e05852a7e"
   }
  }
 },
 "nbformat": 4,
 "nbformat_minor": 2
}
