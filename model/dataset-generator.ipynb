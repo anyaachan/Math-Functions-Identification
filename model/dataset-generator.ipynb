{
 "cells": [
  {
   "cell_type": "code",
   "execution_count": 2,
   "metadata": {},
   "outputs": [],
   "source": [
    "import matplotlib.pyplot as plt\n",
    "import numpy as np\n",
    "import cv2\n",
    "from scipy.ndimage import gaussian_filter, map_coordinates\n",
    "import math\n",
    "import base64\n",
    "from PIL import Image"
   ]
  },
  {
   "cell_type": "code",
   "execution_count": 3,
   "metadata": {},
   "outputs": [
    {
     "data": {
      "image/png": "[encoded data removed]",
      "text/plain": [
       "<Figure size 640x480 with 1 Axes>"
      ]
     },
     "metadata": {},
     "output_type": "display_data"
    }
   ],
   "source": [
    "px = 1/plt.rcParams['figure.dpi']  # pixel in inches\n",
    "\n",
    "# Create a figure and an axes\n",
    "fig = plt.figure()\n",
    "ax = fig.add_subplot()\n",
    "# Hide the top and right spines\n",
    "ax.spines['top'].set_visible(False)\n",
    "ax.spines['right'].set_visible(False)\n",
    "\n",
    "# Move the remaining spines to the zero of the other axis\n",
    "ax.spines['bottom'].set_position('zero')\n",
    "ax.spines['left'].set_position('zero')\n",
    "\n",
    "# Remove the ticks\n",
    "ax.set_xticks([])\n",
    "ax.set_yticks([])\n",
    "\n",
    "# Set the limits for the axes\n",
    "ax.set_xlim(-10, 10)\n",
    "ax.set_ylim(-10, 10)\n",
    "\n",
    "ax.set_aspect('equal')\n",
    "\n",
    "# Create the function\n",
    "\n",
    "# Show the plot\n",
    "plt.show()"
   ]
  },
  {
   "cell_type": "code",
   "execution_count": 4,
   "metadata": {},
   "outputs": [],
   "source": [
    "def truncate_float(float_number, decimal_places):\n",
    "    multiplier = 10 ** decimal_places\n",
    "    return int(float_number * multiplier) / multiplier"
   ]
  },
  {
   "cell_type": "code",
   "execution_count": 5,
   "metadata": {},
   "outputs": [
    {
     "data": {
      "text/plain": [
       "(-10.0, 10.0, -10.0, 10.0)"
      ]
     },
     "execution_count": 5,
     "metadata": {},
     "output_type": "execute_result"
    },
    {
     "data": {
      "image/png": "[encoded data removed]",
      "text/plain": [
       "<Figure size 600x600 with 1 Axes>"
      ]
     },
     "metadata": {},
     "output_type": "display_data"
    }
   ],
   "source": [
    "# Generate the original image of the function y = x\n",
    "x = np.linspace(-10, 10, 400)\n",
    "y = 1 * x \n",
    "\n",
    "plt.figure(figsize=(6,6))\n",
    "plt.plot(x, y, linewidth=3, color = \"black\")\n",
    "plt.xlim([-10, 10])\n",
    "plt.ylim([-10, 10])\n",
    "plt.axis('off')  # Hide axes for clarity\n",
    "\n",
    "# # Save the original function image\n",
    "# plt.savefig('Math-Functions-Identification/data/original_function.png', bbox_inches='tight', pad_inches=0, dpi=100)\n",
    "# plt.close()\n",
    "\n",
    "# # Display the original function image\n",
    "# original_img = cv2.imread('Math-Functions-Identification/data/original_function.png')\n",
    "# plt.imshow(cv2.cvtColor(original_img, cv2.COLOR_BGR2RGB))\n",
    "# plt.axis('off')\n",
    "# plt.show()\n"
   ]
  },
  {
   "cell_type": "code",
   "execution_count": 6,
   "metadata": {},
   "outputs": [],
   "source": [
    "\n",
    "# Apply deformation to an image\n",
    "def apply_elastic_transform(image, sigma, alpha=1000):\n",
    "    random_state = np.random.RandomState(None)\n",
    "    shape = image.shape\n",
    "    print(shape)\n",
    "\n",
    "    # Generate random displacement field. Apply random_state to the image shape to do a random displasement.\n",
    "    # * 2 - 1 shapes the values between -1 and 1. \n",
    "    # Put a new random shape into a gaussian blur so the displacement would be smooth\n",
    "    dx = gaussian_filter((random_state.rand(*shape) * 2 - 1), sigma, mode=\"constant\", cval=0) * alpha\n",
    "    dy = gaussian_filter((random_state.rand(*shape) * 2 - 1), sigma, mode=\"constant\", cval=0) * alpha\n",
    "    dz = np.zeros_like(dx)\n",
    "\n",
    "    x, y, z = np.meshgrid(np.arange(shape[1]), np.arange(shape[0]), np.arange(shape[2]))\n",
    "    indices = np.reshape(y+dy, (-1, 1)), np.reshape(x+dx, (-1, 1)), np.reshape(z+dz, (-1, 1))\n",
    "\n",
    "    distored_image = map_coordinates(image, indices, order=1, mode='reflect')\n",
    "    return distored_image.reshape(image.shape)\n",
    "\n",
    "# # Apply augmentations\n",
    "# augmented_img = apply_elastic_transform(original_img.astype(np.float32), 10)\n",
    "\n",
    "# # Save and display the augmented function image\n",
    "# cv2.imwrite('data/augmented_function.png', augmented_img)\n",
    "# plt.imshow(cv2.cvtColor(augmented_img.astype(np.uint8), cv2.COLOR_BGR2RGB))\n",
    "# plt.title(\"Augmented Function\")\n",
    "# plt.axis('off')\n",
    "# plt.show()"
   ]
  },
  {
   "cell_type": "code",
   "execution_count": 7,
   "metadata": {},
   "outputs": [
    {
     "data": {
      "image/png": "[encoded data removed]",
      "text/plain": [
       "<Figure size 256x256 with 1 Axes>"
      ]
     },
     "metadata": {},
     "output_type": "display_data"
    }
   ],
   "source": [
    "x = np.linspace(-10, 10, 400)\n",
    "y = (x + 0)**2 + 0\n",
    "\n",
    "plt.figure(figsize=(256*px,256*px))\n",
    "plt.plot(x, y, linewidth = 3, color = \"black\")\n",
    "plt.xlim([-10, 10])\n",
    "plt.ylim([-10, 10])\n",
    "plt.axis('off')  # Hide axes for clarity\n",
    "\n",
    "plt.show()"
   ]
  },
  {
   "cell_type": "code",
   "execution_count": 8,
   "metadata": {},
   "outputs": [],
   "source": [
    "%%capture\n",
    "\n",
    "\n",
    "def generate_function_generic(a, b, sigma, equation, name):\n",
    "    x = np.linspace(-10, 10, 400)\n",
    "    y = eval(equation)\n",
    "\n",
    "    plt.figure(figsize=(2.56, 2.56), dpi=100)\n",
    "    plt.plot(x, y, linewidth = 2.8, color = \"black\")\n",
    "    plt.subplots_adjust(left=0, right=1, top=1, bottom=0)\n",
    "    plt.xlim([-10, 10])\n",
    "    plt.ylim([-10, 10])\n",
    "    plt.axis('off')  # Hide axes for clarity\n",
    "    filename = f'/Users/anna-alexandradanchenko/local/IdentMathFunc/Math-Functions-Identification/data/{name}/function_{truncate_float(a, 4)}_{truncate_float(b, 4)}.png'\n",
    "    # Save the original function image\n",
    "    plt.savefig(filename)\n",
    "    plt.close()\n",
    "    original_img = cv2.imread(filename)\n",
    "\n",
    "    augmented_img = apply_elastic_transform(original_img.astype(np.float32), sigma)\n",
    "    augumented_filename = f'/Users/anna-alexandradanchenko/local/IdentMathFunc/Math-Functions-Identification/data/{name}/function_{truncate_float(a, 4)}_{truncate_float(b, 4)}_{truncate_float(sigma, 4)}.png'\n",
    "    cv2.imwrite(augumented_filename, augmented_img)\n",
    "\n",
    "def iterate_function_generation(a_val, b_val, sigma_val,\n",
    "                                a_val_c, b_val_c, sigma_val_c, \n",
    "                                equation, name):\n",
    "    for a in a_val:\n",
    "        for b in b_val:\n",
    "            for sigma in sigma_val:\n",
    "                generate_function_generic(a, b, sigma, equation, name)\n",
    "    for a in a_val_c:\n",
    "        for b in b_val_c:\n",
    "            for sigma in sigma_val_c:\n",
    "                generate_function_generic(a, b, sigma, equation, name)\n",
    "\n"
   ]
  },
  {
   "cell_type": "markdown",
   "metadata": {},
   "source": [
    "Functions Generation"
   ]
  },
  {
   "cell_type": "code",
   "execution_count": 16,
   "metadata": {},
   "outputs": [
    {
     "name": "stderr",
     "output_type": "stream",
     "text": [
      "<string>:1: RuntimeWarning: invalid value encountered in sqrt\n"
     ]
    },
    {
     "name": "stdout",
     "output_type": "stream",
     "text": [
      "(256, 256, 3)\n",
      "(256, 256, 3)\n",
      "(256, 256, 3)\n",
      "(256, 256, 3)\n",
      "(256, 256, 3)\n",
      "(256, 256, 3)\n",
      "(256, 256, 3)\n",
      "(256, 256, 3)\n",
      "(256, 256, 3)\n",
      "(256, 256, 3)\n",
      "(256, 256, 3)\n",
      "(256, 256, 3)\n",
      "(256, 256, 3)\n",
      "(256, 256, 3)\n",
      "(256, 256, 3)\n",
      "(256, 256, 3)\n",
      "(256, 256, 3)\n",
      "(256, 256, 3)\n",
      "(256, 256, 3)\n",
      "(256, 256, 3)\n",
      "(256, 256, 3)\n",
      "(256, 256, 3)\n",
      "(256, 256, 3)\n",
      "(256, 256, 3)\n",
      "(256, 256, 3)\n",
      "(256, 256, 3)\n",
      "(256, 256, 3)\n",
      "(256, 256, 3)\n",
      "(256, 256, 3)\n",
      "(256, 256, 3)\n",
      "(256, 256, 3)\n",
      "(256, 256, 3)\n",
      "(256, 256, 3)\n",
      "(256, 256, 3)\n",
      "(256, 256, 3)\n",
      "(256, 256, 3)\n",
      "(256, 256, 3)\n",
      "(256, 256, 3)\n",
      "(256, 256, 3)\n",
      "(256, 256, 3)\n",
      "(256, 256, 3)\n",
      "(256, 256, 3)\n",
      "(256, 256, 3)\n",
      "(256, 256, 3)\n",
      "(256, 256, 3)\n",
      "(256, 256, 3)\n",
      "(256, 256, 3)\n",
      "(256, 256, 3)\n",
      "(256, 256, 3)\n",
      "(256, 256, 3)\n",
      "(256, 256, 3)\n",
      "(256, 256, 3)\n",
      "(256, 256, 3)\n",
      "(256, 256, 3)\n",
      "(256, 256, 3)\n",
      "(256, 256, 3)\n",
      "(256, 256, 3)\n",
      "(256, 256, 3)\n",
      "(256, 256, 3)\n",
      "(256, 256, 3)\n",
      "(256, 256, 3)\n",
      "(256, 256, 3)\n",
      "(256, 256, 3)\n",
      "(256, 256, 3)\n",
      "(256, 256, 3)\n",
      "(256, 256, 3)\n",
      "(256, 256, 3)\n",
      "(256, 256, 3)\n",
      "(256, 256, 3)\n",
      "(256, 256, 3)\n"
     ]
    }
   ],
   "source": [
    "#iterate_function_generation(np.linspace(-2, 2, 3), np.linspace(-2, 2, 3), np.linspace(7, 11, 3),\n",
    "#                            np.linspace(-1, 1, 2), np.linspace(-1, 1, 2), [9, 10],\n",
    "#                            \"(x + a)**2 + b\", \"quadratic\")\n",
    "\n",
    "#iterate_function_generation(np.linspace(0.8, 1.2, 3), np.linspace(-3, 3, 3), np.linspace(7, 11, 3),\n",
    "#                            np.linspace(0.9, 1.1, 2), np.linspace(-1.5, 1.5, 2), [9, 10],\n",
    "#                            \"a*x + b\", \"linear\")\n",
    "\n",
    "# iterate_function_generation(np.linspace(-2, 2, 3), np.linspace(-2, 2, 3), np.linspace(7, 11, 3),\n",
    "#                             np.linspace(-1, 1, 2), np.linspace(-1, 1, 2), [9, 10],\n",
    "#                             \"-(x + a)**2 + b\", \"negative_quadratic\")\n",
    "\n",
    "# iterate_function_generation(np.linspace(0.8, 1.2, 3), np.linspace(-3, 3, 3), np.linspace(7, 11, 3),\n",
    "#                            np.linspace(0.9, 1.1, 2), np.linspace(-1.5, 1.5, 2), [9, 10],\n",
    "#                            \"-a*x + b\", \"negative_linear\")\n",
    "\n",
    "# iterate_function_generation(np.linspace(0.5, 1, 3), np.linspace(-1.5, 1.5, 3), np.linspace(7, 11, 3),\n",
    "#                            np.linspace(0.9, 1.1, 2), np.linspace(-0.8, 0.8, 2), [9, 10],\n",
    "#                            \"np.sqrt(x + a) + b\", \"square_root\")\n",
    "\n",
    "# iterate_function_generation(np.linspace(0.5, 1, 3), np.linspace(-1.5, 1.5, 3), np.linspace(7, 11, 3),\n",
    "#                            np.linspace(0.9, 1.1, 2), np.linspace(-0.8, 0.8, 2), [9, 10],\n",
    "#                            \"-np.sqrt(x + a) + b\", \"negative_square_root\")\n",
    "\n",
    "# iterate_function_generation(np.linspace(0.8, 1.2, 3), np.linspace(-2, 2, 3), np.linspace(8, 10, 3),\n",
    "#                            np.linspace(0.9, 1.1, 2), np.linspace(-1.5, 1.5, 2), [9, 10],\n",
    "#                            \"(x * 5/6 + a)**3 * 1/3 + b\", \"cubic\")\n",
    "\n",
    "# iterate_function_generation(np.linspace(0.8, 1.2, 3), np.linspace(-2, 2, 3), np.linspace(8, 10, 3),\n",
    "#                            np.linspace(0.9, 1.1, 2), np.linspace(-1.5, 1.5, 2), [9, 10],\n",
    "#                            \"-(x * 5/6 + a)**3 * 1/3 + b\", \"negative_cubic\")"
   ]
  },
  {
   "cell_type": "markdown",
   "metadata": {},
   "source": [
    "## Pre-Generate Answers"
   ]
  },
  {
   "cell_type": "markdown",
   "metadata": {},
   "source": [
    "### Generic Function"
   ]
  },
  {
   "cell_type": "code",
   "execution_count": 17,
   "metadata": {},
   "outputs": [],
   "source": [
    "def generate_answers(equation, name):\n",
    "    # Generate the original image of the function y = x\n",
    "    x = np.linspace(-10, 10, 400)\n",
    "    y = equation\n",
    "\n",
    "    plt.figure(figsize=(20.48,20.48), dpi=100)\n",
    "    plt.plot(x, y, linewidth=14, color = \"limegreen\", snap=False)\n",
    "    plt.xlim([-10, 10])\n",
    "    plt.ylim([-10, 10])\n",
    "    plt.axis('off')  # Hide axes for clarity\n",
    "\n",
    "    # Save the original function image\n",
    "    plt.savefig('/Users/anna-alexandradanchenko/local/IdentMathFunc/Math-Functions-Identification/pre_generated_functions/' + name + \".png\", \n",
    "                bbox_inches='tight', \n",
    "                pad_inches=0, \n",
    "                dpi=100,\n",
    "                transparent=True)\n",
    "    plt.close()\n"
   ]
  },
  {
   "cell_type": "code",
   "execution_count": 18,
   "metadata": {},
   "outputs": [
    {
     "name": "stderr",
     "output_type": "stream",
     "text": [
      "/var/folders/6p/1jmnvrkx7jxdslfr99shm1z00000gn/T/ipykernel_14108/1678250.py:7: RuntimeWarning: invalid value encountered in sqrt\n",
      "  generate_answers(np.sqrt(x) * 1.5, \"square_root\")\n",
      "/var/folders/6p/1jmnvrkx7jxdslfr99shm1z00000gn/T/ipykernel_14108/1678250.py:8: RuntimeWarning: invalid value encountered in sqrt\n",
      "  generate_answers(-np.sqrt(x) * 1.5, \"negative_square_root\")\n"
     ]
    }
   ],
   "source": [
    "generate_answers(x, \"linear\")\n",
    "generate_answers(-x, \"negative_linear\")\n",
    "generate_answers(x**2, \"quadratic\")\n",
    "generate_answers(-x**2, \"negative_quadratic\")\n",
    "generate_answers(x**3 * 1/3, \"cubic\")\n",
    "generate_answers(-x**3 * 1/3, \"negative_cubic\")\n",
    "generate_answers(np.sqrt(x) * 1.5, \"square_root\")\n",
    "generate_answers(-np.sqrt(x) * 1.5, \"negative_square_root\")"
   ]
  },
  {
   "cell_type": "markdown",
   "metadata": {},
   "source": [
    "Test image data encoding"
   ]
  },
  {
   "cell_type": "code",
   "execution_count": 19,
   "metadata": {},
   "outputs": [
    {
     "name": "stdout",
     "output_type": "stream",
     "text": [
      "data:image/png;base64,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\n"
     ]
    }
   ],
   "source": [
    "ANSWERS_ROUTE = \"/Users/anna-alexandradanchenko/local/IdentMathFunc/Math-Functions-Identification/pre_generated_functions\"\n",
    "imagefile = open(ANSWERS_ROUTE + \"/\" + \"quadratic\" + \".png\", \"rb\")\n",
    "answer_image_encoded = base64.b64encode(imagefile.read())\n",
    "answer_image_encoded = answer_image_encoded.decode(\"utf-8\")\n",
    "answer_image_encoded = \"data:image/png;base64,\" + answer_image_encoded\n",
    "\n",
    "print(answer_image_encoded)"
   ]
  }
 ],
 "metadata": {
  "kernelspec": {
   "display_name": "Python 3.11.5 64-bit",
   "language": "python",
   "name": "python3"
  },
  "language_info": {
   "codemirror_mode": {
    "name": "ipython",
    "version": 3
   },
   "file_extension": ".py",
   "mimetype": "text/x-python",
   "name": "python",
   "nbconvert_exporter": "python",
   "pygments_lexer": "ipython3",
   "version": "3.11.5"
  },
  "orig_nbformat": 4,
  "vscode": {
   "interpreter": {
    "hash": "b0fa6594d8f4cbf19f97940f81e996739fb7646882a419484c72d19e05852a7e"
   }
  }
 },
 "nbformat": 4,
 "nbformat_minor": 2
}
