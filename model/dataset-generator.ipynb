{
 "cells": [
  {
   "cell_type": "code",
   "execution_count": 1,
   "metadata": {},
   "outputs": [],
   "source": [
    "import matplotlib.pyplot as plt\n",
    "import numpy as np\n",
    "import cv2\n",
    "from scipy.ndimage import gaussian_filter, map_coordinates\n",
    "import math"
   ]
  },
  {
   "cell_type": "code",
   "execution_count": 2,
   "metadata": {},
   "outputs": [
    {
     "data": {
      "image/png": "[encoded data removed]",
      "text/plain": [
       "<Figure size 640x480 with 1 Axes>"
      ]
     },
     "metadata": {},
     "output_type": "display_data"
    }
   ],
   "source": [
    "px = 1/plt.rcParams['figure.dpi']  # pixel in inches\n",
    "\n",
    "# Create a figure and an axes\n",
    "fig = plt.figure()\n",
    "ax = fig.add_subplot()\n",
    "# Hide the top and right spines\n",
    "ax.spines['top'].set_visible(False)\n",
    "ax.spines['right'].set_visible(False)\n",
    "\n",
    "# Move the remaining spines to the zero of the other axis\n",
    "ax.spines['bottom'].set_position('zero')\n",
    "ax.spines['left'].set_position('zero')\n",
    "\n",
    "# Remove the ticks\n",
    "ax.set_xticks([])\n",
    "ax.set_yticks([])\n",
    "\n",
    "# Set the limits for the axes\n",
    "ax.set_xlim(-10, 10)\n",
    "ax.set_ylim(-10, 10)\n",
    "\n",
    "ax.set_aspect('equal')\n",
    "\n",
    "# Create the function\n",
    "\n",
    "# Show the plot\n",
    "plt.show()"
   ]
  },
  {
   "cell_type": "code",
   "execution_count": 3,
   "metadata": {},
   "outputs": [],
   "source": [
    "def truncate_float(float_number, decimal_places):\n",
    "    multiplier = 10 ** decimal_places\n",
    "    return int(float_number * multiplier) / multiplier"
   ]
  },
  {
   "cell_type": "code",
   "execution_count": 6,
   "metadata": {},
   "outputs": [
    {
     "name": "stderr",
     "output_type": "stream",
     "text": [
      "[ WARN:0@53.855] global loadsave.cpp:244 findDecoder imread_('data/original_function.png'): can't open/read file: check file path/integrity\n"
     ]
    },
    {
     "ename": "error",
     "evalue": "OpenCV(4.7.0) /Users/xperience/GHA-OCV-Python/_work/opencv-python/opencv-python/opencv/modules/imgproc/src/color.cpp:182: error: (-215:Assertion failed) !_src.empty() in function 'cvtColor'\n",
     "output_type": "error",
     "traceback": [
      "\u001b[0;31m---------------------------------------------------------------------------\u001b[0m",
      "\u001b[0;31merror\u001b[0m                                     Traceback (most recent call last)",
      "Cell \u001b[0;32mIn[6], line 13\u001b[0m\n\u001b[1;32m     11\u001b[0m \u001b[38;5;66;03m# Display the original function image\u001b[39;00m\n\u001b[1;32m     12\u001b[0m original_img \u001b[38;5;241m=\u001b[39m cv2\u001b[38;5;241m.\u001b[39mimread(\u001b[38;5;124m'\u001b[39m\u001b[38;5;124mdata/original_function.png\u001b[39m\u001b[38;5;124m'\u001b[39m)\n\u001b[0;32m---> 13\u001b[0m plt\u001b[38;5;241m.\u001b[39mimshow(\u001b[43mcv2\u001b[49m\u001b[38;5;241;43m.\u001b[39;49m\u001b[43mcvtColor\u001b[49m\u001b[43m(\u001b[49m\u001b[43moriginal_img\u001b[49m\u001b[43m,\u001b[49m\u001b[43m \u001b[49m\u001b[43mcv2\u001b[49m\u001b[38;5;241;43m.\u001b[39;49m\u001b[43mCOLOR_BGR2RGB\u001b[49m\u001b[43m)\u001b[49m)\n\u001b[1;32m     14\u001b[0m plt\u001b[38;5;241m.\u001b[39maxis(\u001b[38;5;124m'\u001b[39m\u001b[38;5;124moff\u001b[39m\u001b[38;5;124m'\u001b[39m)\n\u001b[1;32m     15\u001b[0m plt\u001b[38;5;241m.\u001b[39mshow()\n",
      "\u001b[0;31merror\u001b[0m: OpenCV(4.7.0) /Users/xperience/GHA-OCV-Python/_work/opencv-python/opencv-python/opencv/modules/imgproc/src/color.cpp:182: error: (-215:Assertion failed) !_src.empty() in function 'cvtColor'\n"
     ]
    },
    {
     "data": {
      "image/png": "[encoded data removed]",
      "text/plain": [
       "<Figure size 600x600 with 1 Axes>"
      ]
     },
     "metadata": {},
     "output_type": "display_data"
    }
   ],
   "source": [
    "# Generate the original image of the function y = x\n",
    "x = np.linspace(-10, 10, 400)\n",
    "y = 1 * x \n",
    "\n",
    "plt.figure(figsize=(6,6))\n",
    "plt.plot(x, y, linewidth=3, color = \"black\")\n",
    "plt.xlim([-10, 10])\n",
    "plt.ylim([-10, 10])\n",
    "plt.axis('off')  # Hide axes for clarity\n",
    "\n",
    "# Save the original function image\n",
    "plt.savefig('data/original_function.png', bbox_inches='tight', pad_inches=0, dpi=100)\n",
    "plt.close()\n",
    "\n",
    "# Display the original function image\n",
    "original_img = cv2.imread('data/original_function.png')\n",
    "plt.imshow(cv2.cvtColor(original_img, cv2.COLOR_BGR2RGB))\n",
    "plt.axis('off')\n",
    "plt.show()\n"
   ]
  },
  {
   "cell_type": "code",
   "execution_count": 7,
   "metadata": {},
   "outputs": [
    {
     "ename": "AttributeError",
     "evalue": "'NoneType' object has no attribute 'astype'",
     "output_type": "error",
     "traceback": [
      "\u001b[0;31m---------------------------------------------------------------------------\u001b[0m",
      "\u001b[0;31mAttributeError\u001b[0m                            Traceback (most recent call last)",
      "Cell \u001b[0;32mIn[7], line 21\u001b[0m\n\u001b[1;32m     18\u001b[0m     \u001b[38;5;28;01mreturn\u001b[39;00m distored_image\u001b[38;5;241m.\u001b[39mreshape(image\u001b[38;5;241m.\u001b[39mshape)\n\u001b[1;32m     20\u001b[0m \u001b[38;5;66;03m# Apply augmentations\u001b[39;00m\n\u001b[0;32m---> 21\u001b[0m augmented_img \u001b[38;5;241m=\u001b[39m apply_elastic_transform(\u001b[43moriginal_img\u001b[49m\u001b[38;5;241;43m.\u001b[39;49m\u001b[43mastype\u001b[49m(np\u001b[38;5;241m.\u001b[39mfloat32), \u001b[38;5;241m10\u001b[39m)\n\u001b[1;32m     23\u001b[0m \u001b[38;5;66;03m# Save and display the augmented function image\u001b[39;00m\n\u001b[1;32m     24\u001b[0m cv2\u001b[38;5;241m.\u001b[39mimwrite(\u001b[38;5;124m'\u001b[39m\u001b[38;5;124mdata/augmented_function.png\u001b[39m\u001b[38;5;124m'\u001b[39m, augmented_img)\n",
      "\u001b[0;31mAttributeError\u001b[0m: 'NoneType' object has no attribute 'astype'"
     ]
    }
   ],
   "source": [
    "\n",
    "# Apply deformation to an image\n",
    "def apply_elastic_transform(image, sigma, alpha=1000):\n",
    "    random_state = np.random.RandomState(None)\n",
    "    shape = image.shape\n",
    "    print(shape)\n",
    "\n",
    "    # Generate random displacement field. Apply random_state to the image shape to do a random displasement.\n",
    "    # * 2 - 1 shapes the values between -1 and 1. \n",
    "    # Put a new random shape into a gaussian blur so the displacement would be smooth\n",
    "    dx = gaussian_filter((random_state.rand(*shape) * 2 - 1), sigma, mode=\"constant\", cval=0) * alpha\n",
    "    dy = gaussian_filter((random_state.rand(*shape) * 2 - 1), sigma, mode=\"constant\", cval=0) * alpha\n",
    "    dz = np.zeros_like(dx)\n",
    "\n",
    "    x, y, z = np.meshgrid(np.arange(shape[1]), np.arange(shape[0]), np.arange(shape[2]))\n",
    "    indices = np.reshape(y+dy, (-1, 1)), np.reshape(x+dx, (-1, 1)), np.reshape(z+dz, (-1, 1))\n",
    "\n",
    "    distored_image = map_coordinates(image, indices, order=1, mode='reflect')\n",
    "    return distored_image.reshape(image.shape)\n",
    "\n",
    "# Apply augmentations\n",
    "augmented_img = apply_elastic_transform(original_img.astype(np.float32), 10)\n",
    "\n",
    "# Save and display the augmented function image\n",
    "cv2.imwrite('data/augmented_function.png', augmented_img)\n",
    "plt.imshow(cv2.cvtColor(augmented_img.astype(np.uint8), cv2.COLOR_BGR2RGB))\n",
    "plt.title(\"Augmented Function\")\n",
    "plt.axis('off')\n",
    "plt.show()"
   ]
  },
  {
   "cell_type": "code",
   "execution_count": 49,
   "metadata": {},
   "outputs": [],
   "source": [
    "%%capture\n",
    "\n",
    "def generate_linear_functions(a, b, sigma):\n",
    "    x = np.linspace(-10, 10, 400)\n",
    "    y = a*x + b\n",
    "\n",
    "    plt.figure(figsize=(6,6))\n",
    "    plt.plot(x, y, linewidth = 3, color = \"black\")\n",
    "    plt.xlim([-10, 10])\n",
    "    plt.ylim([-10, 10])\n",
    "    plt.axis('off')  # Hide axes for clarity\n",
    "\n",
    "    filename = f'data/linear/function_{a}x_{b}.png'\n",
    "\n",
    "    # Save the original function image\n",
    "    plt.savefig(filename, bbox_inches='tight', pad_inches=0, dpi=100)\n",
    "    plt.close()\n",
    "\n",
    "    original_img = cv2.imread(filename)\n",
    "    augmented_img = apply_elastic_transform(original_img.astype(np.float32), sigma)\n",
    "\n",
    "    augumented_filename = f'data/linear/function_{a}x_{b}_{sigma}.png'\n",
    "    cv2.imwrite(augumented_filename, augmented_img)\n",
    "\n",
    "\n",
    "    \n",
    "a_values = np.linspace(0.8, 1.2, 8)\n",
    "b_values = np.linspace(-3, 3, 8)\n",
    "sigma_values = np.linspace(7, 11, 8)\n",
    "\n",
    "for a in a_values:\n",
    "    for b in b_values:\n",
    "        for sigma in sigma_values:\n",
    "            # Call the generate_linear_functions function\n",
    "            generate_linear_functions(a, b, sigma)\n",
    "\n",
    "a_values_close = np.linspace(0.9, 1.1, 8)\n",
    "b_values_close = np.linspace(-1.5, 1.5, 8)\n",
    "sigma_values_close = [9, 10]\n",
    "\n",
    "for a in a_values_close:\n",
    "    for b in b_values_close:\n",
    "        for sigma in sigma_values_close:\n",
    "            # Call the generate_linear_functions function\n",
    "            generate_linear_functions(a, b, sigma)\n"
   ]
  },
  {
   "cell_type": "code",
   "execution_count": 10,
   "metadata": {},
   "outputs": [
    {
     "data": {
      "image/png": "[encoded data removed]",
      "text/plain": [
       "<Figure size 256x256 with 1 Axes>"
      ]
     },
     "metadata": {},
     "output_type": "display_data"
    }
   ],
   "source": [
    "x = np.linspace(-10, 10, 400)\n",
    "y = (x + 0)**2 + 0\n",
    "\n",
    "plt.figure(figsize=(256*px,256*px))\n",
    "plt.plot(x, y, linewidth = 3, color = \"black\")\n",
    "plt.xlim([-10, 10])\n",
    "plt.ylim([-10, 10])\n",
    "plt.axis('off')  # Hide axes for clarity\n",
    "\n",
    "plt.show()"
   ]
  },
  {
   "cell_type": "code",
   "execution_count": 51,
   "metadata": {},
   "outputs": [],
   "source": [
    "%%capture\n",
    "\n",
    "\n",
    "def generate_function_generic(a, b, sigma, equation, name):\n",
    "    x = np.linspace(-10, 10, 400)\n",
    "    y = eval(equation)\n",
    "\n",
    "    plt.figure(figsize=(256*px,256*px))\n",
    "    plt.plot(x, y, linewidth = 3, color = \"black\")\n",
    "    plt.xlim([-10, 10])\n",
    "    plt.ylim([-10, 10])\n",
    "    plt.axis('off')  # Hide axes for clarity\n",
    "\n",
    "    filename = f'data/{name}/function_{truncate_float(a, 4)}_{truncate_float(b, 4)}.png'\n",
    "    # Save the original function image\n",
    "    plt.savefig(filename, bbox_inches='tight', pad_inches=0, dpi=100)\n",
    "    plt.close()\n",
    "    original_img = cv2.imread(filename)\n",
    "\n",
    "    augmented_img = apply_elastic_transform(original_img.astype(np.float32), sigma)\n",
    "    augumented_filename = f'data/{name}/function_{truncate_float(a, 4)}_{truncate_float(b, 4)}_{truncate_float(sigma, 4)}.png'\n",
    "    cv2.imwrite(augumented_filename, augmented_img)\n",
    "\n",
    "def iterate_function_generation(a_val, b_val, sigma_val,\n",
    "                                a_val_c, b_val_c, sigma_val_c, \n",
    "                                equation, name):\n",
    "    for a in a_val:\n",
    "        for b in b_val:\n",
    "            for sigma in sigma_val:\n",
    "                generate_quadratic_functions(a, b, sigma, equation, name)\n",
    "    for a in a_val_c:\n",
    "        for b in b_val_c:\n",
    "            for sigma in sigma_val_c:\n",
    "                enerate_quadratic_functions(a, b, sigma, equation, name)\n",
    "\n"
   ]
  },
  {
   "cell_type": "markdown",
   "metadata": {},
   "source": [
    "Functions Generation"
   ]
  },
  {
   "cell_type": "code",
   "execution_count": null,
   "metadata": {},
   "outputs": [],
   "source": [
    "iterate_function_generation(np.linspace(-2, 2, 3), np.linspace(-2, 2, 3), np.linspace(7, 11, 3),\n",
    "                            np.linspace(-1, 1, 3), np.linspace(-1, 1, 3), [9, 10],\n",
    "                            \"(x + a)**2 + b\", \"quadratic\")"
   ]
  }
 ],
 "metadata": {
  "kernelspec": {
   "display_name": "Python 3.11.5 64-bit",
   "language": "python",
   "name": "python3"
  },
  "language_info": {
   "codemirror_mode": {
    "name": "ipython",
    "version": 3
   },
   "file_extension": ".py",
   "mimetype": "text/x-python",
   "name": "python",
   "nbconvert_exporter": "python",
   "pygments_lexer": "ipython3",
   "version": "3.11.5"
  },
  "orig_nbformat": 4,
  "vscode": {
   "interpreter": {
    "hash": "b0fa6594d8f4cbf19f97940f81e996739fb7646882a419484c72d19e05852a7e"
   }
  }
 },
 "nbformat": 4,
 "nbformat_minor": 2
}
