{
 "cells": [
  {
   "cell_type": "code",
   "execution_count": 13,
   "metadata": {},
   "outputs": [],
   "source": [
    "from sympy import symbols\n",
    "from sympy.plotting import plot\n",
    "import matplotlib.pyplot as plt\n",
    "import numpy as np\n",
    "import cv2\n",
    "from scipy.ndimage import gaussian_filter, map_coordinates\n",
    "import math\n",
    "\n",
    "import PIL\n",
    "import tensorflow as tf\n",
    "import os, warnings\n",
    "\n",
    "from tensorflow import keras\n",
    "from tensorflow.keras import layers\n",
    "from tensorflow.keras.models import Sequential\n",
    "from tensorflow.keras.preprocessing import image_dataset_from_directory\n",
    "import tensorflow_hub as hub"
   ]
  },
  {
   "cell_type": "code",
   "execution_count": 14,
   "metadata": {},
   "outputs": [],
   "source": [
    "# Set the seed for the random number generator. \n",
    "def set_seed(seed=31415):\n",
    "    np.random.seed(seed)\n",
    "    tf.random.set_seed(seed)\n",
    "    os.environ['PYTHONHASHSEED'] = str(seed)\n",
    "    os.environ['TF_DETERMINISTIC_OPS'] = '1'\n",
    "set_seed()"
   ]
  },
  {
   "cell_type": "markdown",
   "metadata": {},
   "source": [
    "Importing the dataset"
   ]
  },
  {
   "cell_type": "code",
   "execution_count": 15,
   "metadata": {},
   "outputs": [
    {
     "name": "stdout",
     "output_type": "stream",
     "text": [
      "Found 1536 files belonging to 2 classes.\n",
      "Using 1229 files for training.\n",
      "Found 1536 files belonging to 2 classes.\n",
      "Using 307 files for validation.\n"
     ]
    }
   ],
   "source": [
    "batch_size = 32\n",
    "data_dir = \"data\"\n",
    "img_height = 256\n",
    "img_width = 256\n",
    "\n",
    "df_train = image_dataset_from_directory(\n",
    "    data_dir,\n",
    "\n",
    "    validation_split=0.2,\n",
    "    subset=\"training\",\n",
    "\n",
    "    labels='inferred',\n",
    "    label_mode='categorical',\n",
    "\n",
    "    image_size=[img_height, img_width],\n",
    "    batch_size=batch_size,\n",
    "\n",
    "    seed = 123,     \n",
    "    interpolation='nearest',\n",
    "    shuffle=True\n",
    ")\n",
    "\n",
    "df_valid = image_dataset_from_directory(\n",
    "    data_dir,\n",
    "\n",
    "    validation_split=0.2,\n",
    "    subset=\"validation\",\n",
    "\n",
    "    labels='inferred',\n",
    "    label_mode='categorical',\n",
    "\n",
    "    image_size=[img_height, img_width],\n",
    "    batch_size=batch_size,\n",
    "\n",
    "    seed = 123,     \n",
    "    interpolation='nearest',\n",
    "    shuffle=False\n",
    ")\n"
   ]
  },
  {
   "cell_type": "code",
   "execution_count": 16,
   "metadata": {},
   "outputs": [
    {
     "name": "stdout",
     "output_type": "stream",
     "text": [
      "['linear', 'quadratic']\n"
     ]
    }
   ],
   "source": [
    "class_names = df_train.class_names\n",
    "print(class_names)"
   ]
  },
  {
   "cell_type": "code",
   "execution_count": null,
   "metadata": {},
   "outputs": [],
   "source": [
    "AUTOTUNE = tf.data.AUTOTUNE\n"
   ]
  }
 ],
 "metadata": {
  "kernelspec": {
   "display_name": "Python 3.11.5 64-bit",
   "language": "python",
   "name": "python3"
  },
  "language_info": {
   "codemirror_mode": {
    "name": "ipython",
    "version": 3
   },
   "file_extension": ".py",
   "mimetype": "text/x-python",
   "name": "python",
   "nbconvert_exporter": "python",
   "pygments_lexer": "ipython3",
   "version": "3.11.5"
  },
  "orig_nbformat": 4,
  "vscode": {
   "interpreter": {
    "hash": "b0fa6594d8f4cbf19f97940f81e996739fb7646882a419484c72d19e05852a7e"
   }
  }
 },
 "nbformat": 4,
 "nbformat_minor": 2
}
